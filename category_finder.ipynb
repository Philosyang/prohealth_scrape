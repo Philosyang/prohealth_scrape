{
 "cells": [
  {
   "cell_type": "code",
   "execution_count": 1,
   "metadata": {},
   "outputs": [],
   "source": [
    "import pandas as pd\n",
    "import numpy as np\n",
    "from bs4 import BeautifulSoup\n",
    "import urllib.request\n",
    "import time"
   ]
  },
  {
   "cell_type": "code",
   "execution_count": 2,
   "metadata": {},
   "outputs": [
    {
     "data": {
      "text/html": [
       "<div>\n",
       "<style scoped>\n",
       "    .dataframe tbody tr th:only-of-type {\n",
       "        vertical-align: middle;\n",
       "    }\n",
       "\n",
       "    .dataframe tbody tr th {\n",
       "        vertical-align: top;\n",
       "    }\n",
       "\n",
       "    .dataframe thead th {\n",
       "        text-align: right;\n",
       "    }\n",
       "</style>\n",
       "<table border=\"1\" class=\"dataframe\">\n",
       "  <thead>\n",
       "    <tr style=\"text-align: right;\">\n",
       "      <th></th>\n",
       "      <th>name</th>\n",
       "      <th>link</th>\n",
       "      <th>price</th>\n",
       "      <th>rating</th>\n",
       "      <th>review_count</th>\n",
       "    </tr>\n",
       "  </thead>\n",
       "  <tbody>\n",
       "    <tr>\n",
       "      <th>0</th>\n",
       "      <td>ProHealth Longevity NMN Pro 500™ Enhanced Abso...</td>\n",
       "      <td>https://www.prohealth.com/collections/all/pro...</td>\n",
       "      <td>58.00</td>\n",
       "      <td>4.80</td>\n",
       "      <td>711</td>\n",
       "    </tr>\n",
       "    <tr>\n",
       "      <th>1</th>\n",
       "      <td>ProHealth Longevity NMN Pro Complete with Tran...</td>\n",
       "      <td>https://www.prohealth.com/collections/all/pro...</td>\n",
       "      <td>62.40</td>\n",
       "      <td>4.77</td>\n",
       "      <td>312</td>\n",
       "    </tr>\n",
       "    <tr>\n",
       "      <th>2</th>\n",
       "      <td>ProHealth Longevity NMN Pro™ Powder Featuring ...</td>\n",
       "      <td>https://www.prohealth.com/collections/all/pro...</td>\n",
       "      <td>82.88</td>\n",
       "      <td>4.83</td>\n",
       "      <td>714</td>\n",
       "    </tr>\n",
       "    <tr>\n",
       "      <th>3</th>\n",
       "      <td>Micronized Trans-Resveratrol (30 grams) by Pro...</td>\n",
       "      <td>https://www.prohealth.com/collections/all/pro...</td>\n",
       "      <td>35.10</td>\n",
       "      <td>4.85</td>\n",
       "      <td>217</td>\n",
       "    </tr>\n",
       "    <tr>\n",
       "      <th>4</th>\n",
       "      <td>ProHealth Longevity NMN Pro™ Uthever 15 Grams ...</td>\n",
       "      <td>https://www.prohealth.com/collections/all/pro...</td>\n",
       "      <td>46.41</td>\n",
       "      <td>4.83</td>\n",
       "      <td>714</td>\n",
       "    </tr>\n",
       "    <tr>\n",
       "      <th>...</th>\n",
       "      <td>...</td>\n",
       "      <td>...</td>\n",
       "      <td>...</td>\n",
       "      <td>...</td>\n",
       "      <td>...</td>\n",
       "    </tr>\n",
       "    <tr>\n",
       "      <th>99</th>\n",
       "      <td>Nicotinamide Riboside Pro 500 (500 mg NIAGEN® ...</td>\n",
       "      <td>https://www.prohealth.com/collections/all/pro...</td>\n",
       "      <td>64.95</td>\n",
       "      <td>5.00</td>\n",
       "      <td>3</td>\n",
       "    </tr>\n",
       "    <tr>\n",
       "      <th>100</th>\n",
       "      <td>ProHealth Longevity Liposomal NMN Pro 300™ (60...</td>\n",
       "      <td>https://www.prohealth.com/collections/all/pro...</td>\n",
       "      <td>43.95</td>\n",
       "      <td>5.00</td>\n",
       "      <td>10</td>\n",
       "    </tr>\n",
       "    <tr>\n",
       "      <th>101</th>\n",
       "      <td>Nicotinamide Riboside Pro 300 (300 mg NIAGEN® ...</td>\n",
       "      <td>https://www.prohealth.com/collections/all/pro...</td>\n",
       "      <td>47.30</td>\n",
       "      <td>5.00</td>\n",
       "      <td>2</td>\n",
       "    </tr>\n",
       "    <tr>\n",
       "      <th>102</th>\n",
       "      <td>ProHealth Longevity Liposomal NMN Pro Complete...</td>\n",
       "      <td>https://www.prohealth.com/collections/all/pro...</td>\n",
       "      <td>74.95</td>\n",
       "      <td>5.00</td>\n",
       "      <td>3</td>\n",
       "    </tr>\n",
       "    <tr>\n",
       "      <th>103</th>\n",
       "      <td>ProHealth Longevity NMN Pro™ Complete Capsules...</td>\n",
       "      <td>https://www.prohealth.com/collections/all/pro...</td>\n",
       "      <td>110.96</td>\n",
       "      <td>0.00</td>\n",
       "      <td>0</td>\n",
       "    </tr>\n",
       "  </tbody>\n",
       "</table>\n",
       "<p>104 rows × 5 columns</p>\n",
       "</div>"
      ],
      "text/plain": [
       "                                                  name   \n",
       "0    ProHealth Longevity NMN Pro 500™ Enhanced Abso...  \\\n",
       "1    ProHealth Longevity NMN Pro Complete with Tran...   \n",
       "2    ProHealth Longevity NMN Pro™ Powder Featuring ...   \n",
       "3    Micronized Trans-Resveratrol (30 grams) by Pro...   \n",
       "4    ProHealth Longevity NMN Pro™ Uthever 15 Grams ...   \n",
       "..                                                 ...   \n",
       "99   Nicotinamide Riboside Pro 500 (500 mg NIAGEN® ...   \n",
       "100  ProHealth Longevity Liposomal NMN Pro 300™ (60...   \n",
       "101  Nicotinamide Riboside Pro 300 (300 mg NIAGEN® ...   \n",
       "102  ProHealth Longevity Liposomal NMN Pro Complete...   \n",
       "103  ProHealth Longevity NMN Pro™ Complete Capsules...   \n",
       "\n",
       "                                                  link   price   rating   \n",
       "0     https://www.prohealth.com/collections/all/pro...   58.00     4.80  \\\n",
       "1     https://www.prohealth.com/collections/all/pro...   62.40     4.77   \n",
       "2     https://www.prohealth.com/collections/all/pro...   82.88     4.83   \n",
       "3     https://www.prohealth.com/collections/all/pro...   35.10     4.85   \n",
       "4     https://www.prohealth.com/collections/all/pro...   46.41     4.83   \n",
       "..                                                 ...     ...      ...   \n",
       "99    https://www.prohealth.com/collections/all/pro...   64.95     5.00   \n",
       "100   https://www.prohealth.com/collections/all/pro...   43.95     5.00   \n",
       "101   https://www.prohealth.com/collections/all/pro...   47.30     5.00   \n",
       "102   https://www.prohealth.com/collections/all/pro...   74.95     5.00   \n",
       "103   https://www.prohealth.com/collections/all/pro...  110.96     0.00   \n",
       "\n",
       "      review_count  \n",
       "0              711  \n",
       "1              312  \n",
       "2              714  \n",
       "3              217  \n",
       "4              714  \n",
       "..             ...  \n",
       "99               3  \n",
       "100             10  \n",
       "101              2  \n",
       "102              3  \n",
       "103              0  \n",
       "\n",
       "[104 rows x 5 columns]"
      ]
     },
     "execution_count": 2,
     "metadata": {},
     "output_type": "execute_result"
    }
   ],
   "source": [
    "dat = pd.read_csv(\"out.csv\")\n",
    "dat"
   ]
  },
  {
   "cell_type": "code",
   "execution_count": 3,
   "metadata": {},
   "outputs": [
    {
     "data": {
      "text/plain": [
       "' https://www.prohealth.com/collections/all/products/prohealth-nmn-pro-500-enhanced-absorption-60-capsules-ph583'"
      ]
     },
     "execution_count": 3,
     "metadata": {},
     "output_type": "execute_result"
    }
   ],
   "source": [
    "dat[' link'][0]"
   ]
  },
  {
   "cell_type": "code",
   "execution_count": 4,
   "metadata": {},
   "outputs": [],
   "source": [
    "current_product = 'https://www.prohealth.com/collections/all/products/prohealth-nmn-pro-500-enhanced-absorption-60-capsules-ph583'"
   ]
  },
  {
   "cell_type": "code",
   "execution_count": 5,
   "metadata": {},
   "outputs": [],
   "source": [
    "page = urllib.request.urlopen(current_product)\n",
    "pr = page.read()\n",
    "\n",
    "soup = BeautifulSoup(pr, 'html.parser')\n",
    "sp = soup.prettify()"
   ]
  },
  {
   "cell_type": "code",
   "execution_count": 21,
   "metadata": {},
   "outputs": [
    {
     "data": {
      "text/plain": [
       "'class=\"my-section benefit-icons-v\">\\n       <div data-wetheme-section-id=\"template--15643000537188__458b8a5e-0572-4156-b3b8-35ec6a1096ff\">\\n        <div class=\"wrapper-padded\">\\n         <ul>\\n          <li>\\n           <a href=\"#\">\\n            <img alt=\"Brain Health\" src=\"https://cdn.shopify.com/s/files/1/0206/3076/5668/files/product-icon_brain-health.png?v=1679163427\"/>\\n            Brain Health\\n           </a>\\n          </li>\\n          <li>\\n           <a href=\"#\">\\n            <img alt=\"Heart Health\" src=\"https://cdn.shopify.com/s/files/1/0206/3076/5668/files/product-icon_heart-health.png?v=1679163427\"/>\\n            Heart Health\\n           </a>\\n          </li>\\n          <li>\\n           <a href=\"#\">\\n            <img alt=\"DNA Health\" src=\"https://cdn.shopify.com/s/files/1/0206/3076/5668/files/product-icon_dna-health.png?v=1679357276\"/>\\n            DNA Health\\n           </a>\\n          </li>\\n          <li>\\n           <a href=\"#\">\\n            <img alt=\"Blood Sugar Support\" src=\"https://cdn.shopify.com/s/files/1/0206/3076/5668/files/product-icon_blood-sugar.png?v=1679699450\"/>\\n            Blood Sugar Support\\n           </a>\\n          </li>\\n         </ul>\\n        </div>\\n       </div>\\n      </div>\\n     </div>\\n     <div class=\"shopify-section\" id=\"shopify-section-template--15643000537188__2c613af9-1379-4096-82cc-c7c03722384f\">\\n      <div '"
      ]
     },
     "execution_count": 21,
     "metadata": {},
     "output_type": "execute_result"
    }
   ],
   "source": [
    "focus = sp[sp.index('class=\"my-section benefit-icons-v\"'):sp.index('class=\"my-section free-nutritional-advisor-section\"')]\n",
    "focus"
   ]
  },
  {
   "cell_type": "code",
   "execution_count": 22,
   "metadata": {},
   "outputs": [
    {
     "data": {
      "text/plain": [
       "['Brain Health', 'Heart Health', 'DNA Health', 'Blood Sugar Support']"
      ]
     },
     "execution_count": 22,
     "metadata": {},
     "output_type": "execute_result"
    }
   ],
   "source": [
    "categories = []\n",
    "while 'img alt' in focus:\n",
    "    begin_index = focus.index('img alt=\"')\n",
    "    end_index = focus.index('\" src=\"https')\n",
    "    current_category = focus[begin_index+len('img alt=\"'):end_index].strip()\n",
    "    categories.append(current_category)\n",
    "    focus = focus[end_index+len('\" src=\"https'):]\n",
    "\n",
    "categories\n"
   ]
  }
 ],
 "metadata": {
  "kernelspec": {
   "display_name": "Python 3",
   "language": "python",
   "name": "python3"
  },
  "language_info": {
   "codemirror_mode": {
    "name": "ipython",
    "version": 3
   },
   "file_extension": ".py",
   "mimetype": "text/x-python",
   "name": "python",
   "nbconvert_exporter": "python",
   "pygments_lexer": "ipython3",
   "version": "3.10.10"
  },
  "orig_nbformat": 4
 },
 "nbformat": 4,
 "nbformat_minor": 2
}
